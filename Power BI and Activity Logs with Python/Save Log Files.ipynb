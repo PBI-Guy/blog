{
  "cells": [
    {
      "cell_type": "code",
      "execution_count": null,
      "metadata": {
        "jupyter": {
          "outputs_hidden": false,
          "source_hidden": false
        },
        "nteract": {
          "transient": {
            "deleting": false
          }
        }
      },
      "outputs": [],
      "source": [
        "#Import necessary libraries\n",
        "import msal\n",
        "import requests\n",
        "import json\n",
        "import pandas as pd\n",
        "from datetime import date, timedelta"
      ]
    },
    {
      "cell_type": "code",
      "execution_count": null,
      "metadata": {
        "jupyter": {
          "outputs_hidden": false,
          "source_hidden": false
        },
        "nteract": {
          "transient": {
            "deleting": false
          }
        }
      },
      "outputs": [],
      "source": [
        "#Set parameters\n",
        "\n",
        "#Get yesterdays date and convert to string\n",
        "activityDate = date.today() - timedelta(days=1)\n",
        "activityDate = activityDate.strftime(\"%Y-%m-%d\")\n",
        "\n",
        "#Set Client ID and Secret for Service Principal\n",
        "client_id = \"\"\n",
        "client_secret = \"\"\n",
        "authority_url = \"\"\n",
        "scope = [\"https://analysis.windows.net/powerbi/api/.default\"]\n",
        " \n",
        "#Set Power BI REST API to get Activities for today\n",
        "url = \"https://api.powerbi.com/v1.0/myorg/admin/activityevents?startDateTime='\" + activityDate + \"T00:00:00'&endDateTime='\" + activityDate + \"T23:59:59'\"\n",
        "\n",
        "#Set CSV path\n",
        "path = ''"
      ]
    },
    {
      "cell_type": "code",
      "execution_count": null,
      "metadata": {
        "jupyter": {
          "outputs_hidden": false,
          "source_hidden": false
        },
        "nteract": {
          "transient": {
            "deleting": false
          }
        }
      },
      "outputs": [],
      "source": [
        "#Use MSAL to grab token\n",
        "app = msal.ConfidentialClientApplication(client_id, authority=authority_url, client_credential=client_secret)\n",
        "result = app.acquire_token_for_client(scopes=scope)\n",
        "\n",
        "#Get latest Power BI Activities\n",
        "if 'access_token' in result:\n",
        "    access_token = result['access_token']\n",
        "    header = {'Content-Type':'application/json', 'Authorization':f'Bearer {access_token}'}\n",
        "    api_call = requests.get(url=url, headers=header)\n",
        "\n",
        "    #Specify empty Dataframe with all columns\n",
        "    column_names = ['Id', 'RecordType', 'CreationTime', 'Operation', 'OrganizationId', 'UserType', 'UserKey', 'Workload', 'UserId', 'ClientIP', 'UserAgent', 'Activity', 'IsSuccess', 'RequestId', 'ActivityId', 'ItemName', 'WorkSpaceName', 'DatasetName', 'ReportName', 'WorkspaceId', 'ObjectId', 'DatasetId', 'ReportId', 'ReportType', 'DistributionMethod', 'ConsumptionMethod']\n",
        "    df = pd.DataFrame(columns=column_names)\n",
        "\n",
        "    #Set continuation URL\n",
        "    contUrl = api_call.json()['continuationUri']\n",
        "    \n",
        "    #Get all Activities for first hour, save to dataframe (df1) and append to empty created df\n",
        "    result = api_call.json()['activityEventEntities']\n",
        "    df1 = pd.DataFrame(result)\n",
        "    pd.concat([df, df1])\n",
        "\n",
        "    #Call Continuation URL as long as results get one back to get all activities through the day\n",
        "    while contUrl is not None:        \n",
        "        api_call_cont = requests.get(url=contUrl, headers=header)\n",
        "        contUrl = api_call_cont.json()['continuationUri']\n",
        "        result = api_call_cont.json()['activityEventEntities']\n",
        "        df2 = pd.DataFrame(result)\n",
        "        df = pd.concat([df, df2])\n",
        "    \n",
        "    #Set ID as Index of df\n",
        "    df = df.set_index('Id')\n",
        "\n",
        "    #Save df as CSV\n",
        "    df.to_csv(path + activityDate + '.csv')"
      ]
    }
  ],
  "metadata": {
    "description": null,
    "kernel_info": {
      "name": "synapse_pyspark"
    },
    "kernelspec": {
      "display_name": "Synapse PySpark",
      "language": "Python",
      "name": "synapse_pyspark"
    },
    "language_info": {
      "name": "python"
    },
    "save_output": true,
    "synapse_widget": {
      "state": {},
      "version": "0.1"
    }
  },
  "nbformat": 4,
  "nbformat_minor": 2
}
