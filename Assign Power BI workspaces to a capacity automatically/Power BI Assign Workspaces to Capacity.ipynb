{
 "cells": [
  {
   "cell_type": "code",
   "execution_count": 21,
   "metadata": {},
   "outputs": [],
   "source": [
    "#Import necessary libraries\n",
    "\n",
    "import msal\n",
    "import requests\n",
    "import json\n",
    "import pandas as pd\n",
    "import time\n",
    "from azure.identity import DefaultAzureCredential"
   ]
  },
  {
   "cell_type": "code",
   "execution_count": 22,
   "metadata": {},
   "outputs": [],
   "source": [
    "#Set variables\n",
    "\n",
    "client_id = \"\" #Service Principal ID\n",
    "client_secret = \"\" #Secret from Service Principal\n",
    "tenant_id = '' #Tenant UID, can also be found in the Service Principal Overview under \"Directory (tenant) ID\"\n",
    "domain = '' #Your domain name\n",
    "authority_url = \"https://login.microsoftonline.com/\"  + domain\n",
    "scope = [\"https://analysis.windows.net/powerbi/api/.default\"]\n",
    "subscriptionId = '' #Subscription ID on which the PBI Embedded is running\n",
    "resourceGroupName = '' #Resource Group Name in which the PBI Embedded capacity has been created"
   ]
  },
  {
   "cell_type": "code",
   "execution_count": 23,
   "metadata": {},
   "outputs": [],
   "source": [
    "#Use MSAL to grab token\n",
    "app = msal.ConfidentialClientApplication(client_id, authority=authority_url, client_credential=client_secret)\n",
    "result = app.acquire_token_for_client(scopes=scope)"
   ]
  },
  {
   "cell_type": "code",
   "execution_count": 24,
   "metadata": {},
   "outputs": [],
   "source": [
    "#Function to get all available capacities\n",
    "#Power BI Premium Per User will also be listed as capacity separately\n",
    "\n",
    "def get_all_capacities():\n",
    "    \"\"\"Get all available capacities the user has access to.\n",
    "    Power BI Premium per User will be listed separately.\n",
    "    Returns a Pandas Dataframe with Capacity ID, Name, Admins, SKU, state, User AccessRight, Region, and Users.\"\"\"\n",
    "    url_get_all_capacities = \"https://api.powerbi.com/v1.0/myorg/admin/capacities\"\n",
    "    \n",
    "    if 'access_token' in result:\n",
    "        access_token = result['access_token']\n",
    "        header = {'Content-Type':'application/json', 'Authorization':f'Bearer {access_token}'}\n",
    "        api_call = requests.get(url=url_get_all_capacities, headers=header)\n",
    "        result_value = api_call.json()['value']\n",
    "        df_all_capacities = pd.DataFrame(result_value)\n",
    "        return df_all_capacities"
   ]
  },
  {
   "cell_type": "code",
   "execution_count": null,
   "metadata": {},
   "outputs": [],
   "source": [
    "#Filter to PBI Guy Demo Capacity\n",
    "df_all_capacities = get_all_capacities()\n",
    "capacity_id = ''\n",
    "\n",
    "#Extracting state and name in separate variables\n",
    "capacity_status = df_all_capacities.loc[df_all_capacities['id'] == capacity_id].iloc[0]['state']\n",
    "capacity_name = df_all_capacities.loc[df_all_capacities['id'] == capacity_id].iloc[0]['displayName']\n",
    "\n",
    "print(\"Status: \" + capacity_status + \",\", \"Name: \" + capacity_name)"
   ]
  },
  {
   "cell_type": "code",
   "execution_count": null,
   "metadata": {},
   "outputs": [],
   "source": [
    "#Get all Workspaces the user has access to\n",
    "url_get_all_workspaces = 'https://api.powerbi.com/v1.0/myorg/groups'\n",
    "\n",
    "if 'access_token' in result:\n",
    "    access_token = result['access_token']\n",
    "    header = {'Content-Type':'application/json', 'Authorization':f'Bearer {access_token}'}\n",
    "    api_call = requests.get(url=url_get_all_workspaces, headers=header)\n",
    "    result_value = api_call.json()['value']\n",
    "    df_all_workspaces = pd.DataFrame(result_value)\n",
    "    display(df_all_workspaces)"
   ]
  },
  {
   "cell_type": "code",
   "execution_count": null,
   "metadata": {},
   "outputs": [],
   "source": [
    "#Filter to needed workspaces. In this case all workspaces with \"BI\" in the name will be used.\n",
    "df_selected_workspaces = df_all_workspaces[df_all_workspaces['name'].str.contains('BI')]\n",
    "display(df_selected_workspaces)"
   ]
  },
  {
   "cell_type": "code",
   "execution_count": null,
   "metadata": {},
   "outputs": [],
   "source": [
    "#Check status of Capacity\n",
    "#If Suspended, Resume it to be able to assign workspace\n",
    "\n",
    "def get_az_token(tenant_id, client_id, client_secret):\n",
    "    \"\"\"Function to get an Azure Token.\n",
    "    3 variables are required: tenant_id, client_id, and client_secret.\"\"\"\n",
    "    data = \"grant_type=client_credentials&client_id=\" + client_id + \"&client_secret=\" + client_secret + \"&resource=https%3A%2F%2Fmanagement.azure.com%2F\"\n",
    "    url = \"https://login.microsoftonline.com/\" + tenant_id + \"/oauth2/token\"\n",
    "    response = requests.post(url, data=data)\n",
    "    AccessToken = response.json()[\"access_token\"]\n",
    "    return AccessToken\n",
    "\n",
    "def create_url (subscriptionId, resourceGroupName, pbiCapacityName, status):\n",
    "    \"\"\"Function to change status of capacity.\n",
    "    Required variables are subscriptionId, resourceGroupName, pbiCapacityName, and status.\"\"\"\n",
    "    url = 'https://management.azure.com/subscriptions/' + subscriptionId + '/resourceGroups/' + resourceGroupName + '/providers/Microsoft.PowerBIDedicated/capacities/' + pbiCapacityName + '/' + status + '?api-version=2021-01-01'\n",
    "    return url\n",
    "\n",
    "if capacity_status == 'Suspended':\n",
    "    azToken = get_az_token(tenant_id=tenant_id, client_id=client_id, client_secret=client_secret)\n",
    "    url = create_url(subscriptionId, resourceGroupName, capacity_name, 'resume')\n",
    "    header = {'Content-Type':'application/json', 'Authorization':f'Bearer {azToken}'}\n",
    "    api_call = requests.post(url=url, headers=header)\n",
    "\n",
    "    if api_call.status_code == 202:\n",
    "        print('Successfully changed status to resume.')\n",
    "\n",
    "    if api_call.status_code == 400:\n",
    "        print('An error occured. Probably the capacity is already in status running.')\n",
    "\n",
    "    if api_call.status_code == 403:\n",
    "        print('No sufficient permission to perform this action. Make sure the user has enough right on Capacity.')"
   ]
  },
  {
   "cell_type": "code",
   "execution_count": null,
   "metadata": {},
   "outputs": [],
   "source": [
    "#Check status of Capacity, wait until it changed\n",
    "df_all_capacities = get_all_capacities()\n",
    "capacity_status = df_all_capacities.loc[df_all_capacities['id'] == capacity_id].iloc[0]['state']\n",
    "\n",
    "while capacity_status == 'Suspended':\n",
    "    print(\"Capacity is still suspended. Checking status in 5 seconds again.\")\n",
    "    time.sleep(5)\n",
    "    df_all_capacities = get_all_capacities()\n",
    "    capacity_status = df_all_capacities.loc[df_all_capacities['id'] == capacity_id].iloc[0]['state']\n",
    "    if capacity_status == 'Active':\n",
    "        print(\"Capacity is active.\")\n",
    "        break"
   ]
  },
  {
   "cell_type": "code",
   "execution_count": null,
   "metadata": {},
   "outputs": [],
   "source": [
    "# If you wish to unassign the workspace and move it back to Power BI Service, use the zeros GUID capacity ID\n",
    "#capacity_id = '00000000-0000-0000-0000-000000000000'\n",
    "#capacity_name = 'Power BI Service'\n",
    "\n",
    "for idx, row in df_selected_workspaces.iterrows(): #Iterate through each workspace\n",
    "    workspace_id = row['id'] #Store the workspace ID in a separate variable\n",
    "    workspace_name = row['name'] #Store workspace name in a separate variable\n",
    "\n",
    "    #configure URL to call to remove license from user\n",
    "    url_assign_to_capacity = \"https://api.powerbi.com/v1.0/myorg/groups/\" + workspace_id + '/AssignToCapacity'\n",
    "\n",
    "    body_assign_to_capacity = {\n",
    "        \"capacityId\": capacity_id\n",
    "    }\n",
    "\n",
    "    if 'access_token' in result:\n",
    "        access_token = result['access_token']\n",
    "        header = {'Content-Type':'application/json', 'Authorization':f'Bearer {access_token}'}\n",
    "\n",
    "        api_call = requests.post(url=url_assign_to_capacity, headers=header, json=body_assign_to_capacity)\n",
    "        \n",
    "        if api_call.status_code == 200:\n",
    "            print('Workspace', workspace_name, 'successfully assigned to new Capacity:', capacity_name)\n",
    "\n",
    "        if api_call.status_code == 400:\n",
    "            print(\"Power BI returned a Bad Request error. Make sure the capacity:\", capacity_name, \"is running to which you wish to assign the workspace to.\")\n",
    "\n",
    "        if api_call.status_code == 401:\n",
    "            print(\"You don't have sufficient permission to assign this workspace to the desired capacity. Please make sure the Service Principal has contributor permission on the capacity and is admin of the workspace.\")"
   ]
  },
  {
   "cell_type": "code",
   "execution_count": null,
   "metadata": {},
   "outputs": [],
   "source": [
    "#Pause PBI Embedded capacity\n",
    "azToken = get_az_token(tenant_id=tenant_id, client_id=client_id, client_secret=client_secret)\n",
    "url = create_url(subscriptionId, resourceGroupName, capacity_name, 'suspend')\n",
    "header = {'Content-Type':'application/json', 'Authorization':f'Bearer {azToken}'}\n",
    "api_call = requests.post(url=url, headers=header)\n",
    "\n",
    "if api_call.status_code == 202:\n",
    "    print('Successfully changed status to suspend.')\n",
    "\n",
    "if api_call.status_code == 400:\n",
    "    print('An error occured. Probably the capacity is already in status paused.')\n",
    "\n",
    "if api_call.status_code == 403:\n",
    "    print('No sufficient permission to perform this action. Make sure the user has enough rights on Capacity or make sure the capacity ID is not pointing to the Power BI Service with the zeros GUID.')"
   ]
  }
 ],
 "metadata": {
  "kernelspec": {
   "display_name": "Python 3.10.2 64-bit",
   "language": "python",
   "name": "python3"
  },
  "language_info": {
   "codemirror_mode": {
    "name": "ipython",
    "version": 3
   },
   "file_extension": ".py",
   "mimetype": "text/x-python",
   "name": "python",
   "nbconvert_exporter": "python",
   "pygments_lexer": "ipython3",
   "version": "3.10.2"
  },
  "orig_nbformat": 4,
  "vscode": {
   "interpreter": {
    "hash": "4fbed153e238f4285efb1d870caa38735ffea5aba2369c7ca55f9d390ea59110"
   }
  }
 },
 "nbformat": 4,
 "nbformat_minor": 2
}
