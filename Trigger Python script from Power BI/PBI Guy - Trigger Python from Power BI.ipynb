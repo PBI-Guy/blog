{
  "cells": [
    {
      "cell_type": "code",
      "source": [
        "#Import necessary tables\r\n",
        "from datetime import datetime\r\n",
        "import pandas as pd"
      ],
      "outputs": [
        {
          "output_type": "display_data",
          "data": {
            "application/vnd.livy.statement-meta+json": {
              "spark_pool": "PBIGuySparkPool",
              "session_id": "177",
              "statement_id": 1,
              "state": "finished",
              "livy_statement_state": "available",
              "queued_time": "2023-02-10T12:41:45.4537907Z",
              "session_start_time": "2023-02-10T12:41:45.5013793Z",
              "execution_start_time": "2023-02-10T12:44:22.227507Z",
              "execution_finish_time": "2023-02-10T12:44:25.1388091Z",
              "spark_jobs": null
            },
            "text/plain": "StatementMeta(PBIGuySparkPool, 177, 1, Finished, Available)"
          },
          "metadata": {}
        }
      ],
      "execution_count": 8,
      "metadata": {
        "jupyter": {
          "source_hidden": false,
          "outputs_hidden": false
        },
        "nteract": {
          "transient": {
            "deleting": false
          }
        }
      }
    },
    {
      "cell_type": "code",
      "source": [
        "#Define standard parameters which can be called from outside\r\n",
        "firstNumber = 7\r\n",
        "secondNumber = 1\r\n",
        "user = ''\r\n",
        "upn = ''\r\n",
        "timestamp = datetime.now()\r\n",
        "timestamp_string = timestamp.strftime('%Y_%m_%d_%H_%M_%S')"
      ],
      "outputs": [
        {
          "output_type": "display_data",
          "data": {
            "application/vnd.livy.statement-meta+json": {
              "spark_pool": "PBIGuySparkPool",
              "session_id": "177",
              "statement_id": 2,
              "state": "finished",
              "livy_statement_state": "available",
              "queued_time": "2023-02-10T12:41:45.5418667Z",
              "session_start_time": null,
              "execution_start_time": "2023-02-10T12:44:25.2822513Z",
              "execution_finish_time": "2023-02-10T12:44:25.4904639Z",
              "spark_jobs": null
            },
            "text/plain": "StatementMeta(PBIGuySparkPool, 177, 2, Finished, Available)"
          },
          "metadata": {}
        }
      ],
      "execution_count": 9,
      "metadata": {
        "tags": [
          "parameters"
        ]
      }
    },
    {
      "cell_type": "code",
      "source": [
        "#Define standard parameters which can not be called from outside\r\n",
        "adlgen2 = ''\r\n",
        "container = ''\r\n",
        "folder = '' + user\r\n",
        "fileName = ''"
      ],
      "outputs": [
        {
          "output_type": "display_data",
          "data": {
            "application/vnd.livy.statement-meta+json": {
              "spark_pool": "PBIGuySparkPool",
              "session_id": "177",
              "statement_id": 3,
              "state": "finished",
              "livy_statement_state": "available",
              "queued_time": "2023-02-10T12:41:45.7061443Z",
              "session_start_time": null,
              "execution_start_time": "2023-02-10T12:44:25.6156679Z",
              "execution_finish_time": "2023-02-10T12:44:25.7895816Z",
              "spark_jobs": null
            },
            "text/plain": "StatementMeta(PBIGuySparkPool, 177, 3, Finished, Available)"
          },
          "metadata": {}
        }
      ],
      "execution_count": 10,
      "metadata": {
        "jupyter": {
          "source_hidden": false,
          "outputs_hidden": false
        },
        "nteract": {
          "transient": {
            "deleting": false
          }
        }
      }
    },
    {
      "cell_type": "code",
      "source": [
        "#Create dataframe with provided data\r\n",
        "d = {'firstNumber': [firstNumber], 'secondNumber': [secondNumber], 'result': [firstNumber + secondNumber], 'user': [user], 'upn': [upn], 'timestamp': [timestamp]}\r\n",
        "df = pd.DataFrame(data=d)"
      ],
      "outputs": [
        {
          "output_type": "display_data",
          "data": {
            "application/vnd.livy.statement-meta+json": {
              "spark_pool": "PBIGuySparkPool",
              "session_id": "177",
              "statement_id": 4,
              "state": "finished",
              "livy_statement_state": "available",
              "queued_time": "2023-02-10T12:41:45.8108034Z",
              "session_start_time": null,
              "execution_start_time": "2023-02-10T12:44:25.9107913Z",
              "execution_finish_time": "2023-02-10T12:44:26.0851951Z",
              "spark_jobs": null
            },
            "text/plain": "StatementMeta(PBIGuySparkPool, 177, 4, Finished, Available)"
          },
          "metadata": {}
        }
      ],
      "execution_count": 11,
      "metadata": {
        "jupyter": {
          "source_hidden": false,
          "outputs_hidden": false
        },
        "nteract": {
          "transient": {
            "deleting": false
          }
        }
      }
    },
    {
      "cell_type": "code",
      "source": [
        "#Store Dataframe as parquet file\r\n",
        "df.to_parquet('abfss://' + container + '@' + adlgen2 + '.dfs.core.windows.net/' + folder + '/' + fileName + '_' + timestamp_string + '.parquet')"
      ],
      "outputs": [
        {
          "output_type": "display_data",
          "data": {
            "application/vnd.livy.statement-meta+json": {
              "spark_pool": "PBIGuySparkPool",
              "session_id": "177",
              "statement_id": 5,
              "state": "finished",
              "livy_statement_state": "available",
              "queued_time": "2023-02-10T12:41:45.914163Z",
              "session_start_time": null,
              "execution_start_time": "2023-02-10T12:44:26.2052215Z",
              "execution_finish_time": "2023-02-10T12:44:31.6765355Z",
              "spark_jobs": null
            },
            "text/plain": "StatementMeta(PBIGuySparkPool, 177, 5, Finished, Available)"
          },
          "metadata": {}
        }
      ],
      "execution_count": 12,
      "metadata": {
        "jupyter": {
          "source_hidden": false,
          "outputs_hidden": false
        },
        "nteract": {
          "transient": {
            "deleting": false
          }
        }
      }
    }
  ],
  "metadata": {
    "kernelspec": {
      "name": "synapse_pyspark",
      "language": "Python",
      "display_name": "Synapse PySpark"
    },
    "language_info": {
      "name": "python"
    },
    "kernel_info": {
      "name": "synapse_pyspark"
    },
    "description": null,
    "save_output": true,
    "synapse_widget": {
      "version": "0.1",
      "state": {}
    }
  },
  "nbformat": 4,
  "nbformat_minor": 2
}