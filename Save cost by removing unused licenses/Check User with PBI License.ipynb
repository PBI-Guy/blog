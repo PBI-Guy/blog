{
  "cells": [
    {
      "cell_type": "code",
      "execution_count": null,
      "metadata": {},
      "outputs": [],
      "source": [
        "#Import necessary libraries\n",
        "\n",
        "import msal\n",
        "import requests\n",
        "import json\n",
        "import pandas as pd\n",
        "from pyspark.sql.functions import *\n",
        "from datetime import date, timedelta"
      ]
    },
    {
      "cell_type": "code",
      "execution_count": null,
      "metadata": {
        "jupyter": {
          "outputs_hidden": false,
          "source_hidden": false
        },
        "nteract": {
          "transient": {
            "deleting": false
          }
        }
      },
      "outputs": [],
      "source": [
        "#Set parameters\n",
        "\n",
        "client_id = '' #ID of Service Principal / App\n",
        "client_secret = '' #Secret from Service Principal / App\n",
        "scope = 'https://graph.microsoft.com/.default' #Defining Scope for Graph API\n",
        "authority_url = \"https://login.microsoftonline.com/...\" #Defining authority / host\n",
        "\n",
        "#Define all needed Power BI related SKUs\n",
        "#All SKUs with the ID and friendly name of Microsoft can be found here: https://docs.microsoft.com/en-us/azure/active-directory/enterprise-users/licensing-service-plan-reference Check if new SKUs are available or have changed over time. The list below has been created on 15th September 2022\n",
        "all_skus = pd.DataFrame ({\n",
        "    'skuId': ['e97c048c-37a4-45fb-ab50-922fbf07a370', '46c119d4-0379-4a9d-85e4-97c66d3f909e', '06ebc4ee-1bb5-47dd-8120-11324bc54e06', 'c42b9cae-ea4f-4ab7-9717-81576235ccac', 'cd2925a3-5076-4233-8931-638a8c94f773', 'e2be619b-b125-455f-8660-fb503e431a5d', 'a4585165-0533-458a-97e3-c400570268c4', 'ee656612-49fa-43e5-b67e-cb1fdf7699df', 'c7df2760-2c81-4ef7-b578-5b5392b571df', 'e2767865-c3c9-4f09-9f99-6eee6eef861a', 'a403ebcc-fae0-4ca2-8c8c-7a907fd6c235', '7b26f5ab-a763-4c00-a1ac-f6c4b5506945', 'c1d032e0-5619-4761-9b5c-75b6831e1711', 'de376a03-6e5b-42ec-855f-093fb50b8ca5', 'f168a3fb-7bcf-4a27-98c3-c235ea4b78b4', 'f8a1db68-be16-40ed-86d5-cb42ce701560', '420af87e-8177-4146-a780-3786adaffbca', '3a6a908c-09c5-406a-8170-8ebb63c42882', 'f0612879-44ea-47fb-baf0-3d76d9235576'],\n",
        "    'skuName': ['Microsoft 365 A5 for Faculty', 'Microsoft 365 A5 for Students', 'Microsoft 365 E5', 'Microsoft 365 E5 Developer (without Windows and Audio Conferencing)', 'Microsoft 365 E5 without Audio Conferencing', 'Microsoft 365 GCC G5', 'Office 365 A5 for Faculty', 'Office 365 A5 for Students', 'Office 365 E5', 'Power BI', 'Power BI (free)', 'Power BI Premium P1', 'Power BI Premium Per User', 'Power BI Premium Per User Add-On', 'Power BI Premium Per User Dept', 'Power BI Pro', 'Power BI Pro CE', 'Power BI Pro Dept', 'Power BI Pro for GCC']\n",
        "})"
      ]
    },
    {
      "cell_type": "code",
      "execution_count": null,
      "metadata": {
        "collapsed": false,
        "jupyter": {
          "outputs_hidden": false,
          "source_hidden": false
        },
        "nteract": {
          "transient": {
            "deleting": false
          }
        }
      },
      "outputs": [],
      "source": [
        "app = msal.ConfidentialClientApplication(client_id, authority=authority_url, client_credential=client_secret)\n",
        "result = app.acquire_token_for_client(scopes=scope)\n",
        "\n",
        "url_get_all_users = 'https://graph.microsoft.com/v1.0/users' #URL to get all AAD users\n",
        "\n",
        "#If access token is created and received, call the get all users url to receive licenses per user\n",
        "if 'access_token' in result:\n",
        "    access_token = result['access_token']\n",
        "    header = {'Content-Type':'application/x-www-form-urlencoded', 'Authorization':f'Bearer {access_token}'}\n",
        "\n",
        "    api_call = requests.get(url=url_get_all_users, headers=header) #Effective get all users from AAD URL call\n",
        "\n",
        "    result = api_call.json()['value'] #Get only the necessary child\n",
        "    df_all_users = pd.DataFrame(result) #Convert to DataFrame\n",
        "    df_all_users = df_all_users[['displayName', 'mail', 'userPrincipalName', 'id']] #Get only needed columns\n",
        "\n",
        "    df_all_user_licenses = pd.DataFrame() #Create empty DataFrame to store all users and assigned licenses\n",
        "\n",
        "    for idx, row in df_all_users.iterrows(): #Iterate through each users from AAD\n",
        "        user_id = row['id'] #Store the User ID in a separate variable\n",
        "        userPrincipal = row['userPrincipalName']\n",
        "        url_get_licenses = 'https://graph.microsoft.com/v1.0/users/' + user_id + '/licenseDetails' #Defining the URL to get licens per user\n",
        "\n",
        "        api_call = requests.get(url=url_get_licenses, headers=header) #Effective get license per User URL call\n",
        "        result = api_call.json()['value'] #Get only the necessary child\n",
        "\n",
        "        df_user_licenses = pd.DataFrame(result) #convert to DataFrame\n",
        "        df_user_licenses['userId'] = user_id #Add User ID to identify user\n",
        "        df_user_licenses['userPrincipal'] = userPrincipal #Add User Principal to identify user\n",
        "        \n",
        "        #I'll use a try and except statement to handle empty requests --> if no license is assign nothing will be return and without try and except the script will run into an error. \n",
        "        #An if else statement would also work to check if the result is empty or not\n",
        "        try:\n",
        "            df_user_licenses = df_user_licenses[df_user_licenses['skuId'].isin(all_skus['skuId'])] #Get only PBI related SKUs\n",
        "            df_user_licenses = df_user_licenses[['skuId', 'userId', 'userPrincipal']] #Get only needed columns\n",
        "            df_user_licenses = all_skus.merge(df_user_licenses) #Using a join to retrieve only users with assigned PBI licenses\n",
        "            df_all_user_licenses = pd.concat([df_all_user_licenses, df_user_licenses]) #Adding result to all user licenses DataFrame\n",
        "\n",
        "        except:\n",
        "            pass"
      ]
    },
    {
      "cell_type": "code",
      "execution_count": null,
      "metadata": {
        "collapsed": false,
        "jupyter": {
          "outputs_hidden": false,
          "source_hidden": false
        },
        "nteract": {
          "transient": {
            "deleting": false
          }
        }
      },
      "outputs": [],
      "source": [
        "#Read Activity Log folder with all files\n",
        "df_activityLog = spark.read.load('abfss://powerbi@aiadadlgen2.dfs.core.windows.net/Activity Log/*', format='csv', header=True)\n",
        "\n",
        "#Specify day varialbe for how many days you're looking back\n",
        "daysBackToCheck = 90 #Configure this number based on need how many days you're looking for an inactive user. In this case 90 means 90 days going back from today on.\n",
        "activityDays = date.today() - timedelta(days=daysBackToCheck)\n",
        "activityDays = activityDays.strftime(\"%Y-%m-%d\")\n",
        "\n",
        "#Filter Activity logs to get last X days\n",
        "df_activityLog = df_activityLog.filter(df_activityLog.CreationTime > activityDays)\n",
        "\n",
        "#Aggregate to get the last activity day by user\n",
        "df_activityLog = df_activityLog.groupBy('userId').agg(max('CreationTime').alias('Date'))\n",
        "df_activityLog = df_activityLog.withColumnRenamed('userId', 'userPrincipal')\n",
        "\n",
        "df_activityLog = df_activityLog.toPandas()"
      ]
    },
    {
      "cell_type": "code",
      "execution_count": null,
      "metadata": {
        "collapsed": false,
        "jupyter": {
          "outputs_hidden": false,
          "source_hidden": false
        },
        "nteract": {
          "transient": {
            "deleting": false
          }
        }
      },
      "outputs": [],
      "source": [
        "#Combine both DataFrames to check all users and their last login\n",
        "df_combined = pd.merge(df_all_user_licenses, df_activityLog, how='left', on=['userPrincipal', 'userPrincipal'])\n",
        "\n",
        "#Get all Users without login in last X days\n",
        "df_combined_only_NaN = df_combined[pd.isna(df_combined['Date'])]"
      ]
    },
    {
      "cell_type": "code",
      "execution_count": null,
      "metadata": {
        "collapsed": false,
        "jupyter": {
          "outputs_hidden": false,
          "source_hidden": false
        },
        "nteract": {
          "transient": {
            "deleting": false
          }
        }
      },
      "outputs": [],
      "source": [
        "#Filter only to Power BI Free licenses for my demo use case\n",
        "df_pbi_free = df_combined_only_NaN.loc[df_combined_only_NaN['skuId'] == 'a403ebcc-fae0-4ca2-8c8c-7a907fd6c235']\n",
        "\n",
        "display(df_pbi_free)"
      ]
    },
    {
      "cell_type": "code",
      "execution_count": null,
      "metadata": {
        "collapsed": false,
        "jupyter": {
          "outputs_hidden": false,
          "source_hidden": false
        },
        "nteract": {
          "transient": {
            "deleting": false
          }
        }
      },
      "outputs": [],
      "source": [
        "#Overwrite header and reuse access token\n",
        "header = {'Content-Type':'application/json', 'Authorization':f'Bearer {access_token}'}\n",
        "\n",
        "\n",
        "for idx, row in df_pbi_free.iterrows(): #Iterate through each users with a PBI Free license\n",
        "    user_id = row['userId'] #Store the User ID in a separate variable\n",
        "    sku_id = row['skuId'] #Store the SKU ID in a separate variable\n",
        "    userPrincipal = row['userPrincipal']\n",
        "\n",
        "    #configure URL to call to remove license from user\n",
        "    url = 'https://graph.microsoft.com/v1.0/users/' + user_id + '/assignLicense'\n",
        "\n",
        "    #create body with SKU ID\n",
        "    body = {\n",
        "        \"addLicenses\": [],\n",
        "        \"removeLicenses\": [\n",
        "            sku_id\n",
        "        ]\n",
        "    }\n",
        "\n",
        "    #Call API to remove license\n",
        "    api_call = requests.post(url=url, headers=header, json=body)\n",
        "\n",
        "    if api_call.status_code == 200:\n",
        "        print('License has been successfully removed from user', userPrincipal)\n",
        "\n",
        "    else:\n",
        "        print('An error occured and license has NOT been removed')"
      ]
    }
  ],
  "metadata": {
    "description": "Check through the Graph API which users have a PBI license and compare to activity log if it's still needed",
    "kernel_info": {
      "name": "synapse_pyspark"
    },
    "kernelspec": {
      "display_name": "Python 3.10.2 64-bit",
      "language": "python",
      "name": "python3"
    },
    "language_info": {
      "name": "python",
      "version": "3.10.2"
    },
    "save_output": true,
    "synapse_widget": {
      "state": {
        "6b03e7b4-837b-44ab-ac3f-63de4336a22b": {
          "persist_state": {
            "view": {
              "chartOptions": {
                "aggregationType": "count",
                "categoryFieldKeys": [
                  "0"
                ],
                "chartType": "bar",
                "isStacked": false,
                "seriesFieldKeys": [
                  "0"
                ]
              },
              "tableOptions": {},
              "type": "details"
            }
          },
          "sync_state": {
            "isSummary": false,
            "language": "scala",
            "table": {
              "rows": [
                {
                  "0": "a403ebcc-fae0-4ca2-8c8c-7a907fd6c235",
                  "1": "Power BI (free)",
                  "2": "6979df9b-6ff6-4af3-80a6-f38c5133aa71",
                  "3": "AdeleV@M365x159062.OnMicrosoft.com",
                  "4": "NaN"
                },
                {
                  "0": "a403ebcc-fae0-4ca2-8c8c-7a907fd6c235",
                  "1": "Power BI (free)",
                  "2": "5ed6da41-be81-469e-933f-0c9d2c4ae8f3",
                  "3": "AlexW@M365x159062.OnMicrosoft.com",
                  "4": "NaN"
                }
              ],
              "schema": [
                {
                  "key": "0",
                  "name": "skuId",
                  "type": "string"
                },
                {
                  "key": "1",
                  "name": "skuName",
                  "type": "string"
                },
                {
                  "key": "2",
                  "name": "userId",
                  "type": "string"
                },
                {
                  "key": "3",
                  "name": "userPrincipal",
                  "type": "string"
                },
                {
                  "key": "4",
                  "name": "Date",
                  "type": "string"
                }
              ],
              "truncated": false
            }
          },
          "type": "Synapse.DataFrame"
        }
      },
      "version": "0.1"
    },
    "vscode": {
      "interpreter": {
        "hash": "4fbed153e238f4285efb1d870caa38735ffea5aba2369c7ca55f9d390ea59110"
      }
    }
  },
  "nbformat": 4,
  "nbformat_minor": 2
}
