{
 "cells": [
  {
   "cell_type": "code",
   "execution_count": 1,
   "metadata": {},
   "outputs": [],
   "source": [
    "#Import needed libraries\n",
    "import requests\n",
    "import json\n",
    "import pandas as pd\n",
    "import msal\n",
    "import os"
   ]
  },
  {
   "cell_type": "code",
   "execution_count": null,
   "metadata": {},
   "outputs": [],
   "source": [
    "#Specify Parameters\n",
    "\n",
    "#Service Principal\n",
    "client_id = ''\n",
    "client_secret = ''\n",
    "\n",
    "#Tenant Specification\n",
    "tenant_id = ''\n",
    "authority_url = 'https://login.microsoftonline.com/' + tenant_id\n",
    "scope = ['https://analysis.windows.net/powerbi/api/.default']\n",
    "\n",
    "#Report Specification\n",
    "workspace_id = ''\n",
    "report_id = ''\n",
    "dataset_id = ''\n",
    "base_url = 'https://api.powerbi.com/v1.0/myorg/groups/' + workspace_id + '/reports/' + report_id\n",
    "format = 'PDF'\n",
    "body = {\n",
    "\n",
    "    \"format\": format\n",
    "}\n",
    "\n",
    "#Report File Specification\n",
    "path = ''"
   ]
  },
  {
   "cell_type": "code",
   "execution_count": null,
   "metadata": {},
   "outputs": [],
   "source": [
    "#Use MSAL to grab token\n",
    "app = msal.ConfidentialClientApplication(client_id, authority=authority_url, client_credential=client_secret)\n",
    "result = app.acquire_token_for_client(scopes=scope)\n",
    "\n",
    "if 'access_token' in result:\n",
    "    access_token = result['access_token']\n",
    "    header = {'Content-Type':'application/json', 'Authorization':f'Bearer {access_token}'}\n"
   ]
  },
  {
   "cell_type": "code",
   "execution_count": null,
   "metadata": {},
   "outputs": [],
   "source": [
    "#Export Report for each value in Report Parameter\n",
    "export_url = base_url + '/ExportTo'\n",
    "export_id_list = []\n",
    "parameter_value_list = []\n",
    "\n",
    "for index, row in df_result.iterrows():\n",
    "    current_value = df_result['Fiscal Year'][index]\n",
    "    body = {\n",
    "        \"format\": format,\n",
    "        \"paginatedReportConfiguration\": {\n",
    "            \"parameterValues\":[\n",
    "                    {\"name\": \"DateFiscalYear\", \"value\": current_value}\n",
    "                ]\n",
    "        }\n",
    "    }\n",
    "\n",
    "    api_call = post_request(export_url, header, body)\n",
    "    export_id = api_call.json()['id']\n",
    "    export_id_list.append(export_id)\n",
    "    parameter_value_list.append(current_value)\n",
    "\n",
    "df_export = pd.DataFrame(list(zip(export_id_list, parameter_value_list)), columns=['Export ID', 'Parameter Value'])\n",
    "print(df_export)"
   ]
  },
  {
   "cell_type": "code",
   "execution_count": null,
   "metadata": {},
   "outputs": [],
   "source": [
    "#Get Export Status\n",
    "\n",
    "for index, row in df_export.iterrows():\n",
    "    current_export_id = df_export['Export ID'][index]\n",
    "    current_parameter_value = df_export['Parameter Value'][index]\n",
    "\n",
    "    url_status = base_url + '/exports/' + current_export_id\n",
    "    status = ''\n",
    "    while status != 'Succeeded':\n",
    "        api_call = get_request(url_status, header)\n",
    "        status = api_call.json()['status']\n",
    "        print(status)\n",
    "        print(current_parameter_value)"
   ]
  },
  {
   "cell_type": "code",
   "execution_count": null,
   "metadata": {},
   "outputs": [],
   "source": [
    "#Save report as PDF\n",
    "\n",
    "for index, row in df_export.iterrows():\n",
    "    current_export_id = df_export['Export ID'][index]\n",
    "    file_name = df_export['Parameter Value'][index]\n",
    "\n",
    "    url_save = base_url + '/exports/' + current_export_id + '/file'\n",
    "    api_call = get_request(url_save, header)\n",
    "\n",
    "    completename = os.path.join(path, file_name + '.' + format)\n",
    "\n",
    "    with open(completename, 'wb') as f:\n",
    "        f.write(api_call.content)"
   ]
  }
 ],
 "metadata": {
  "kernelspec": {
   "display_name": "Python 3",
   "language": "python",
   "name": "python3"
  },
  "language_info": {
   "codemirror_mode": {
    "name": "ipython",
    "version": 3
   },
   "file_extension": ".py",
   "mimetype": "text/x-python",
   "name": "python",
   "nbconvert_exporter": "python",
   "pygments_lexer": "ipython3",
   "version": "3.10.11"
  }
 },
 "nbformat": 4,
 "nbformat_minor": 2
}
